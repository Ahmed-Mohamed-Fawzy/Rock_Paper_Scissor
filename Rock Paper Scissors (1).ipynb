{
 "cells": [
  {
   "cell_type": "markdown",
   "id": "fec7351f",
   "metadata": {},
   "source": [
    "# Rock Paper Scissors with draw mode"
   ]
  },
  {
   "cell_type": "code",
   "execution_count": null,
   "id": "91a1ea29",
   "metadata": {
    "scrolled": true
   },
   "outputs": [
    {
     "name": "stdout",
     "output_type": "stream",
     "text": [
      "Choose Rock or Paper or Scissor rock\n",
      "YOU LOSE, Try agian\n",
      "Choose Rock or Paper or Scissor rock\n",
      "YOU LOSE, Try agian\n",
      "Choose Rock or Paper or Scissor rock\n",
      "YOU LOSE, Try agian\n",
      "Choose Rock or Paper or Scissor rock\n",
      "YOU LOSE, Try agian\n",
      "Choose Rock or Paper or Scissor rock\n",
      "YOU LOSE, Try agian\n",
      "Choose Rock or Paper or Scissor rock\n",
      "YOU LOSE, Try agian\n",
      "Choose Rock or Paper or Scissor paper\n",
      "DRAW\n"
     ]
    }
   ],
   "source": [
    "from random import randint\n",
    "valed_choices={0:'Rock',1:'Paper',2:'Scissor'}\n",
    "#valed={'Rock','Paper','Scissor'}\n",
    "\n",
    "while True :\n",
    "    user_choice=input('Choose Rock or Paper or Scissor ').strip().capitalize()\n",
    "    if user_choice in valed_choices.values() :\n",
    "        comuter_choice={'Rock','Paper','Scissor'}.pop()\n",
    "        #comuter_choice=valed_choices[randint(0,2)]\n",
    "        if user_choice==comuter_choice :\n",
    "            print('DRAW')\n",
    "        elif user_choice=='Rock' :\n",
    "            print('YOU WIN') if comuter_choice=='Scissor' else print('YOU LOSE, Try agian')\n",
    "        elif user_choice=='Paper':\n",
    "            print('YOU WIN') if comuter_choice=='Rock' else print('YOU LOSE, Try agian')\n",
    "        else :\n",
    "            print('YOU WIN') if comuter_choice=='Paper' else print('YOU LOSE, Try agian') \n",
    "    else :\n",
    "        print('Wrong choice. Please enter Rock or Paper or Scissor only')\n",
    "        "
   ]
  },
  {
   "cell_type": "code",
   "execution_count": null,
   "id": "8c4fc18c",
   "metadata": {},
   "outputs": [],
   "source": []
  }
 ],
 "metadata": {
  "kernelspec": {
   "display_name": "Python 3 (ipykernel)",
   "language": "python",
   "name": "python3"
  },
  "language_info": {
   "codemirror_mode": {
    "name": "ipython",
    "version": 3
   },
   "file_extension": ".py",
   "mimetype": "text/x-python",
   "name": "python",
   "nbconvert_exporter": "python",
   "pygments_lexer": "ipython3",
   "version": "3.11.5"
  }
 },
 "nbformat": 4,
 "nbformat_minor": 5
}
